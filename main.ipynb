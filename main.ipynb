{
 "cells": [
  {
   "cell_type": "code",
   "execution_count": 1,
   "metadata": {},
   "outputs": [
    {
     "name": "stderr",
     "output_type": "stream",
     "text": [
      "/Users/fajrulhaqqi/Public/Career/PHR_ITBA/hackathon/ioc_forum_2025/.venv/lib/python3.11/site-packages/tqdm/auto.py:21: TqdmWarning: IProgress not found. Please update jupyter and ipywidgets. See https://ipywidgets.readthedocs.io/en/stable/user_install.html\n",
      "  from .autonotebook import tqdm as notebook_tqdm\n"
     ]
    }
   ],
   "source": [
    "from utils.gdrive_access import GD2MilvusManager\n",
    "from tqdm import tqdm\n",
    "import os\n",
    "from dotenv import load_dotenv\n",
    "\n",
    "%reload_ext autoreload\n",
    "%autoreload 2"
   ]
  },
  {
   "cell_type": "code",
   "execution_count": 2,
   "metadata": {},
   "outputs": [
    {
     "name": "stdout",
     "output_type": "stream",
     "text": [
      "Your browser has been opened to visit:\n",
      "\n",
      "    https://accounts.google.com/o/oauth2/auth?client_id=248270700232-6220rfekcna210nhtb833b3os62832o6.apps.googleusercontent.com&redirect_uri=http%3A%2F%2Flocalhost%3A8080%2F&scope=https%3A%2F%2Fwww.googleapis.com%2Fauth%2Fdrive&access_type=offline&response_type=code\n",
      "\n",
      "Authentication successful.\n"
     ]
    },
    {
     "name": "stderr",
     "output_type": "stream",
     "text": [
      "Loading checkpoint shards: 100%|██████████| 2/2 [00:39<00:00, 19.61s/it]\n"
     ]
    }
   ],
   "source": [
    "load_dotenv()\n",
    "\n",
    "folder_id = os.getenv(\"GD_FOLDER_ID\")   # Replace with actual folder ID\n",
    "local_folder = \"./data\"                 # Change to desired local path\n",
    "\n",
    "# milvus_uri = \"http://10.236.124.244:19530\"\n",
    "milvus_uri = \"http://localhost:19530\"\n",
    "collection_name = \"candidate_colpali\"\n",
    "\n",
    "gdm = GD2MilvusManager(\n",
    "    milvus_uri=milvus_uri,\n",
    "    collection_name=collection_name,\n",
    "    device='mps'\n",
    ")"
   ]
  },
  {
   "cell_type": "code",
   "execution_count": 15,
   "metadata": {},
   "outputs": [
    {
     "name": "stdout",
     "output_type": "stream",
     "text": [
      "📁 Portfolio\n",
      "  📄 Ahmad Naufal Rafii.pdf\n",
      "   ↪ Already Downloaded\n",
      "  📄 Razan M.pdf\n",
      "   ↪ Already Downloaded\n",
      "  📄 Yatin Kholifah.pdf\n",
      "   ↪ Already Downloaded\n",
      "  📄 Miki Tjandra A.pdf\n",
      "   ↪ Already Downloaded\n",
      "  📄 ENZADA F. PRESTIAWAN.pdf\n",
      "   ↪ Already Downloaded\n",
      "  📄 Sarah.pdf\n",
      "   ↪ Already Downloaded\n",
      "  📄 Dania Eka Putri.pdf\n",
      "   ↪ Already Downloaded\n",
      "  📄 Gustav Anandita.pdf\n",
      "   ↪ Already Downloaded\n",
      "  📄 ERIKA ASTRIANA.pdf\n",
      "   ↪ Already Downloaded\n",
      "📁 Resume\n",
      "  📄 Hakinan Toton.pdf\n",
      "   ↪ Already Downloaded\n",
      "  📄 Ewangga Arga Wikresa.pdf\n",
      "   ↪ Already Downloaded\n",
      "  📄 Nugraha Bayu Syah Putra.pdf\n",
      "   ↪ Already Downloaded\n",
      "  📄 Sri Wahyu.pdf\n",
      "   ↪ Already Downloaded\n",
      "  📄 Rega Ayundya Putri.pdf\n",
      "   ↪ Already Downloaded\n",
      "  📄 Akbar Reza.pdf\n",
      "   ↪ Already Downloaded\n",
      "  📄 A Ainun Muthiah Ilyas.pdf\n",
      "   ↪ Already Downloaded\n",
      "  📄 A Hafifah.pdf\n",
      "   ↪ Already Downloaded\n",
      "  📄 Yuni Lestari .pdf\n",
      "   ↪ Already Downloaded\n",
      "  📄 John Philips.pdf\n",
      "   ↪ Already Downloaded\n",
      "  📄 Richard Juanda Naibaho.pdf\n",
      "   ↪ Already Downloaded\n",
      "  📄 Adrian Hariady Napitupulu.pdf\n",
      "   ↪ Already Downloaded\n",
      "  📄 Muhammad Riduan.pdf\n",
      "   ↪ Already Downloaded\n",
      "  📄 Asdam Tambusay.pdf\n",
      "   ↪ Already Downloaded\n",
      "  📄 Laily Mandala Putri.pdf\n",
      "   ↪ Already Downloaded\n",
      "  📄 Basuki Yusuf Iskandar.pdf\n",
      "   ↪ Already Downloaded\n",
      "  📄 Erlinda Riana Dewi.pdf\n",
      "   ↪ Already Downloaded\n",
      "  📄 Mohamad Imam Prayoga.pdf\n",
      "   ↪ Already Downloaded\n",
      "  📄 Fadilah.pdf\n",
      "   ↪ Already Downloaded\n",
      "  📄 Mega Rachma.pdf\n",
      "   ↪ Already Downloaded\n",
      "  📄 Kartika Eka Paksi.pdf\n",
      "   ↪ Already Downloaded\n",
      "  📄 Kuntari.pdf\n",
      "   ↪ Already Downloaded\n",
      "  📄 Hafsha Yanti Siregar.pdf\n",
      "   ↪ Already Downloaded\n",
      "  📄 Nadja Briliana.pdf\n",
      "   ↪ Already Downloaded\n",
      "  📄 Trias Mahardika.pdf\n",
      "   ↪ Already Downloaded\n",
      "  📄 David Wijaya.pdf\n",
      "   ↪ Already Downloaded\n",
      "  📄 Billy Kinanda Candra Virzatha.pdf\n",
      "   ↪ Already Downloaded\n",
      "  📄 Ayu Wulandari.pdf\n",
      "   ↪ Already Downloaded\n",
      "  📄 Wilda Welis.pdf\n",
      "   ↪ Already Downloaded\n",
      "  📄 Muhammad Anwar.pdf\n",
      "   ↪ Already Downloaded\n",
      "  📄 Nurul Ihsan.pdf\n",
      "   ↪ Already Downloaded\n",
      "  📄 R Cakradana Ardhanurahman Yudhatama.pdf\n",
      "   ↪ Already Downloaded\n",
      "  📄 Egy Dya Hermawan.pdf\n",
      "   ↪ Already Downloaded\n",
      "  📄 Putro Septia Parede.pdf\n",
      "   ↪ Already Downloaded\n",
      "  📄 Bayu Fitranto.pdf\n",
      "   ↪ Already Downloaded\n",
      "  📄 Pandu Pratamakusnandi.pdf\n",
      "   ↪ Already Downloaded\n",
      "  📄 Trian Cahyo Utomo.pdf\n",
      "   ↪ Already Downloaded\n",
      "  📄 Moh. Iqbal Badruzzaman.pdf\n",
      "   ↪ Already Downloaded\n",
      "  📄 Diana Fiqi Nugraha.pdf\n",
      "   ↪ Already Downloaded\n",
      "  📄 Ivana Raisa.pdf\n",
      "   ↪ Already Downloaded\n",
      "  📄 Julina Mere.pdf\n",
      "   ↪ Already Downloaded\n",
      "  📄 Shadrina Hazmi.pdf\n",
      "   ↪ Already Downloaded\n",
      "  📄 Ibrar Hasan.pdf\n",
      "   ↪ Already Downloaded\n",
      "  📄 HR Ryan Setyawan.pdf\n",
      "   ↪ Already Downloaded\n",
      "  📄 Rika Gunawan.pdf\n",
      "   ↪ Already Downloaded\n",
      "  📄 Wahyu Kurniawan.pdf\n",
      "   ↪ Already Downloaded\n",
      "  📄 Ryan Setyawan.pdf\n",
      "   ↪ Already Downloaded\n",
      "  📄 Dika Putrawan.pdf\n",
      "   ↪ Already Downloaded\n",
      "  📄 Nivel Dafitri.pdf\n",
      "   ↪ Already Downloaded\n",
      "  📄 Kristianus Yosefat Livinus Gunawan.pdf\n",
      "   ↪ Already Downloaded\n",
      "  📄 Ryan Prasetya.pdf\n",
      "   ↪ Already Downloaded\n",
      "  📄 Sandra Indriasti.pdf\n",
      "   ↪ Already Downloaded\n",
      "  📄 Nur Riski Amalia.pdf\n",
      "   ↪ Already Downloaded\n",
      "  📄 Bayu Rujito.pdf\n",
      "   ↪ Already Downloaded\n",
      "  📄 Atu Bagus Wiguna.pdf\n",
      "   ↪ Already Downloaded\n",
      "  📄 Feliscitas Stephanie.pdf\n",
      "   ↪ Already Downloaded\n",
      "  📄 Sepri Herdiman.pdf\n",
      "   ↪ Already Downloaded\n",
      "  📄 Rizqy Amelia Zein.pdf\n",
      "   ↪ Already Downloaded\n",
      "  📄 Rizky Ayu Safitri.pdf\n",
      "   ↪ Already Downloaded\n",
      "  📄 Dharma Gita Surya Prayoga.pdf\n",
      "   ↪ Already Downloaded\n",
      "  📄 Mitha Sellina.pdf\n",
      "   ↪ Already Downloaded\n",
      "  📄 Dian Sugesti Ningsih.pdf\n",
      "   ↪ Already Downloaded\n",
      "  📄 Nakes-3.pdf\n",
      "   ↪ Already Downloaded\n",
      "  📄 Modern-CV.pdf\n",
      "   ↪ Already Downloaded\n",
      "  📄 Resti Aprilia Rahayu.pdf\n",
      "   ↪ Already Downloaded\n",
      "  📄 LAMPIRAN_31865.pdf\n",
      "   ↪ Already Downloaded\n",
      "  📄 kUF95fkDys2mKDjqX3hu5QcOPWIcCkVfJ14GohPY.pdf\n",
      "   ↪ Already Downloaded\n",
      "  📄 Luknanto.pdf\n",
      "   ↪ Already Downloaded\n",
      "  📄 manoranjanpradhan.pdf\n",
      "   ↪ Already Downloaded\n",
      "  📄 jbptunikompp-gdl-anggaprayo-28917-11-unikom_a-v.pdf\n",
      "   ↪ Already Downloaded\n",
      "  📄 CV - M Fajrul Haqqi (Feb 25).pdf\n",
      "   ↪ Already Downloaded\n"
     ]
    }
   ],
   "source": [
    "gdm.download_files_recursive(folder_id, local_folder, auto_embed=False)"
   ]
  },
  {
   "cell_type": "code",
   "execution_count": 7,
   "metadata": {},
   "outputs": [
    {
     "name": "stdout",
     "output_type": "stream",
     "text": [
      " ⦿ Embed image of page 1...\n",
      " ⦿ Embed image of page 2...\n",
      " ⦿ Stored images in Milvus. ✅\n"
     ]
    }
   ],
   "source": [
    "filepath = \"data/Resume/CV - M Fajrul Haqqi (Feb 25).pdf\"\n",
    "mvc = gdm.milvus\n",
    "mvc.store_pdf_images_in_milvus(filepath, category=\"Resume\")"
   ]
  },
  {
   "cell_type": "code",
   "execution_count": null,
   "metadata": {},
   "outputs": [],
   "source": []
  }
 ],
 "metadata": {
  "kernelspec": {
   "display_name": ".venv",
   "language": "python",
   "name": "python3"
  },
  "language_info": {
   "codemirror_mode": {
    "name": "ipython",
    "version": 3
   },
   "file_extension": ".py",
   "mimetype": "text/x-python",
   "name": "python",
   "nbconvert_exporter": "python",
   "pygments_lexer": "ipython3",
   "version": "3.11.11"
  }
 },
 "nbformat": 4,
 "nbformat_minor": 2
}
