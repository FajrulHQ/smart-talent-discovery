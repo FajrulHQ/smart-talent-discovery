{
 "cells": [
  {
   "cell_type": "code",
   "execution_count": 1,
   "metadata": {},
   "outputs": [
    {
     "name": "stderr",
     "output_type": "stream",
     "text": [
      "C:\\Users\\#mk.m.haqqi\\AppData\\Roaming\\Python\\Python310\\site-packages\\tqdm\\auto.py:21: TqdmWarning: IProgress not found. Please update jupyter and ipywidgets. See https://ipywidgets.readthedocs.io/en/stable/user_install.html\n",
      "  from .autonotebook import tqdm as notebook_tqdm\n"
     ]
    },
    {
     "data": {
      "text/plain": [
       "True"
      ]
     },
     "execution_count": 1,
     "metadata": {},
     "output_type": "execute_result"
    }
   ],
   "source": [
    "from utils.gdrive_access import GD2MilvusManager\n",
    "from tqdm import tqdm\n",
    "import os\n",
    "from dotenv import load_dotenv\n",
    "\n",
    "%reload_ext autoreload\n",
    "%autoreload 2\n",
    "\n",
    "load_dotenv()"
   ]
  },
  {
   "cell_type": "code",
   "execution_count": 2,
   "metadata": {},
   "outputs": [
    {
     "name": "stderr",
     "output_type": "stream",
     "text": [
      "Loading checkpoint shards: 100%|██████████| 2/2 [00:03<00:00,  1.97s/it]\n"
     ]
    }
   ],
   "source": [
    "folder_id = os.getenv(\"GD_FOLDER_ID\")   # Replace with actual folder ID\n",
    "local_folder = \"./data\"                 # Change to desired local path\n",
    "\n",
    "milvus_uri = \"http://10.236.124.244:19530\"\n",
    "collection_name = \"candidate_colpali\"\n",
    "\n",
    "gdm = GD2MilvusManager(\n",
    "    milvus_uri=milvus_uri,\n",
    "    collection_name=collection_name\n",
    ")\n",
    "# gdm.download_files_recursive(folder_id, local_folder)"
   ]
  },
  {
   "cell_type": "code",
   "execution_count": 13,
   "metadata": {},
   "outputs": [
    {
     "name": "stdout",
     "output_type": "stream",
     "text": [
      " ⦿ Already embed in milvus ✅\n"
     ]
    }
   ],
   "source": [
    "filepath = \"data/Resume/CV - M Fajrul Haqqi (Feb 25).pdf\"\n",
    "mvc = gdm.milvus\n",
    "mvc.store_pdf_images_in_milvus(filepath, category=\"Resume\")"
   ]
  },
  {
   "cell_type": "code",
   "execution_count": null,
   "metadata": {},
   "outputs": [],
   "source": []
  }
 ],
 "metadata": {
  "kernelspec": {
   "display_name": "Python 3",
   "language": "python",
   "name": "python3"
  },
  "language_info": {
   "codemirror_mode": {
    "name": "ipython",
    "version": 3
   },
   "file_extension": ".py",
   "mimetype": "text/x-python",
   "name": "python",
   "nbconvert_exporter": "python",
   "pygments_lexer": "ipython3",
   "version": "3.10.11"
  }
 },
 "nbformat": 4,
 "nbformat_minor": 2
}
